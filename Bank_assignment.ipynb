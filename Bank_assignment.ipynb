{
 "cells": [
  {
   "cell_type": "code",
   "execution_count": 1,
   "id": "43afdf45-8213-4e73-aeb3-f7cbb2dd14ee",
   "metadata": {},
   "outputs": [
    {
     "name": "stdout",
     "output_type": "stream",
     "text": [
      "Welcome to the banking system!\n"
     ]
    },
    {
     "name": "stdin",
     "output_type": "stream",
     "text": [
      "Enter your name to create an account:  uzair\n"
     ]
    },
    {
     "name": "stdout",
     "output_type": "stream",
     "text": [
      "Account for uzair created with balance: $0.0\n",
      "\n",
      "Menu:\n",
      "1. Deposit Money\n",
      "2. Withdraw Money\n",
      "3. Check Balance\n",
      "4. Print Transaction Statement\n",
      "5. Exit\n"
     ]
    },
    {
     "name": "stdin",
     "output_type": "stream",
     "text": [
      "Choose an option (1-5):  1\n",
      "Enter the amount to deposit:  500\n"
     ]
    },
    {
     "name": "stdout",
     "output_type": "stream",
     "text": [
      "Deposited $500.0. New balance: $500.0\n",
      "\n",
      "Menu:\n",
      "1. Deposit Money\n",
      "2. Withdraw Money\n",
      "3. Check Balance\n",
      "4. Print Transaction Statement\n",
      "5. Exit\n"
     ]
    },
    {
     "name": "stdin",
     "output_type": "stream",
     "text": [
      "Choose an option (1-5):  3\n"
     ]
    },
    {
     "name": "stdout",
     "output_type": "stream",
     "text": [
      "Current balance: $500.0\n",
      "\n",
      "Menu:\n",
      "1. Deposit Money\n",
      "2. Withdraw Money\n",
      "3. Check Balance\n",
      "4. Print Transaction Statement\n",
      "5. Exit\n"
     ]
    },
    {
     "name": "stdin",
     "output_type": "stream",
     "text": [
      "Choose an option (1-5):  2\n",
      "Enter the amount to withdraw:  300\n"
     ]
    },
    {
     "name": "stdout",
     "output_type": "stream",
     "text": [
      "Withdrew $300.0. New balance: $200.0\n",
      "\n",
      "Menu:\n",
      "1. Deposit Money\n",
      "2. Withdraw Money\n",
      "3. Check Balance\n",
      "4. Print Transaction Statement\n",
      "5. Exit\n"
     ]
    },
    {
     "name": "stdin",
     "output_type": "stream",
     "text": [
      "Choose an option (1-5):  3\n"
     ]
    },
    {
     "name": "stdout",
     "output_type": "stream",
     "text": [
      "Current balance: $200.0\n",
      "\n",
      "Menu:\n",
      "1. Deposit Money\n",
      "2. Withdraw Money\n",
      "3. Check Balance\n",
      "4. Print Transaction Statement\n",
      "5. Exit\n"
     ]
    },
    {
     "name": "stdin",
     "output_type": "stream",
     "text": [
      "Choose an option (1-5):  4\n"
     ]
    },
    {
     "name": "stdout",
     "output_type": "stream",
     "text": [
      "Transaction Statement for uzair:\n",
      "Balance: $200.0\n",
      "Deposited: $500.0\n",
      "Withdrew: $300.0\n",
      "\n",
      "Menu:\n",
      "1. Deposit Money\n",
      "2. Withdraw Money\n",
      "3. Check Balance\n",
      "4. Print Transaction Statement\n",
      "5. Exit\n"
     ]
    },
    {
     "name": "stdin",
     "output_type": "stream",
     "text": [
      "Choose an option (1-5):  5\n"
     ]
    },
    {
     "name": "stdout",
     "output_type": "stream",
     "text": [
      "Exiting the banking system. Goodbye!\n"
     ]
    }
   ],
   "source": [
    "import os\n",
    "\n",
    "# Function to create an account\n",
    "def create_account(name):\n",
    "    account = {\n",
    "        \"name\": name,\n",
    "        \"balance\": 0.0,\n",
    "        \"transactions\": []\n",
    "    }\n",
    "    # Save the account to a file\n",
    "    save_account_to_file(account)\n",
    "    return account\n",
    "\n",
    "# Function to save account data to file\n",
    "def save_account_to_file(account):\n",
    "    with open(f\"{account['name']}_account.txt\", \"w\") as file:\n",
    "        file.write(f\"Name: {account['name']}\\n\")\n",
    "        file.write(f\"Balance: {account['balance']}\\n\")\n",
    "        file.write(\"Transactions:\\n\")\n",
    "        for transaction in account['transactions']:\n",
    "            file.write(f\"{transaction}\\n\")\n",
    "\n",
    "# Function to load account data from file\n",
    "def load_account_from_file(name):\n",
    "    if os.path.exists(f\"{name}_account.txt\"):\n",
    "        account = {\n",
    "            \"name\": name,\n",
    "            \"balance\": 0.0,\n",
    "            \"transactions\": []\n",
    "        }\n",
    "        with open(f\"{name}_account.txt\", \"r\") as file:\n",
    "            lines = file.readlines()\n",
    "            account['name'] = lines[0].split(\":\")[1].strip()\n",
    "            account['balance'] = float(lines[1].split(\":\")[1].strip())\n",
    "            account['transactions'] = [line.strip() for line in lines[3:]]\n",
    "        return account\n",
    "    else:\n",
    "        print(f\"Account for {name} does not exist.\")\n",
    "        return None\n",
    "\n",
    "# Function to deposit money into the account\n",
    "def deposit(account, amount):\n",
    "    if amount <= 0:\n",
    "        print(\"Deposit amount must be positive.\")\n",
    "        return account\n",
    "    account['balance'] += amount\n",
    "    account['transactions'].append(f\"Deposited: ${amount}\")\n",
    "    save_account_to_file(account)\n",
    "    print(f\"Deposited ${amount}. New balance: ${account['balance']}\")\n",
    "    return account\n",
    "\n",
    "# Function to withdraw money from the account\n",
    "def withdraw(account, amount):\n",
    "    if amount <= 0:\n",
    "        print(\"Withdrawal amount must be positive.\")\n",
    "        return account\n",
    "    if amount > account['balance']:\n",
    "        print(\"Insufficient funds.\")\n",
    "        return account\n",
    "    account['balance'] -= amount\n",
    "    account['transactions'].append(f\"Withdrew: ${amount}\")\n",
    "    save_account_to_file(account)\n",
    "    print(f\"Withdrew ${amount}. New balance: ${account['balance']}\")\n",
    "    return account\n",
    "\n",
    "# Function to check balance\n",
    "def check_balance(account):\n",
    "    print(f\"Current balance: ${account['balance']}\")\n",
    "    return account['balance']\n",
    "\n",
    "# Function to print transaction statement\n",
    "def print_statement(account):\n",
    "    print(f\"Transaction Statement for {account['name']}:\")\n",
    "    print(f\"Balance: ${account['balance']}\")\n",
    "    for transaction in account['transactions']:\n",
    "        print(transaction)\n",
    "\n",
    "# Main program\n",
    "def main():\n",
    "    print(\"Welcome to the banking system!\")\n",
    "    \n",
    "    # Step 1: Create an account\n",
    "    name = input(\"Enter your name to create an account: \")\n",
    "    account = create_account(name)\n",
    "    print(f\"Account for {name} created with balance: ${account['balance']}\")\n",
    "\n",
    "    while True:\n",
    "        print(\"\\nMenu:\")\n",
    "        print(\"1. Deposit Money\")\n",
    "        print(\"2. Withdraw Money\")\n",
    "        print(\"3. Check Balance\")\n",
    "        print(\"4. Print Transaction Statement\")\n",
    "        print(\"5. Exit\")\n",
    "        \n",
    "        choice = input(\"Choose an option (1-5): \")\n",
    "\n",
    "        if choice == '1':\n",
    "            amount = float(input(\"Enter the amount to deposit: \"))\n",
    "            account = deposit(account, amount)\n",
    "        elif choice == '2':\n",
    "            amount = float(input(\"Enter the amount to withdraw: \"))\n",
    "            account = withdraw(account, amount)\n",
    "        elif choice == '3':\n",
    "            check_balance(account)\n",
    "        elif choice == '4':\n",
    "            print_statement(account)\n",
    "        elif choice == '5':\n",
    "            print(\"Exiting the banking system. Goodbye!\")\n",
    "            break\n",
    "        else:\n",
    "            print(\"Invalid choice. Please try again.\")\n",
    "\n",
    "if __name__ == \"__main__\":\n",
    "    main()\n"
   ]
  },
  {
   "cell_type": "code",
   "execution_count": null,
   "id": "4a76651e-1b0d-4398-814c-c086a567e25b",
   "metadata": {},
   "outputs": [],
   "source": []
  }
 ],
 "metadata": {
  "kernelspec": {
   "display_name": "Python 3 (ipykernel)",
   "language": "python",
   "name": "python3"
  },
  "language_info": {
   "codemirror_mode": {
    "name": "ipython",
    "version": 3
   },
   "file_extension": ".py",
   "mimetype": "text/x-python",
   "name": "python",
   "nbconvert_exporter": "python",
   "pygments_lexer": "ipython3",
   "version": "3.12.7"
  }
 },
 "nbformat": 4,
 "nbformat_minor": 5
}
